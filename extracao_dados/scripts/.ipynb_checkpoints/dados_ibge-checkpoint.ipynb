{
 "cells": [
  {
   "cell_type": "code",
   "execution_count": 18,
   "metadata": {},
   "outputs": [
    {
     "ename": "SyntaxError",
     "evalue": "positional argument follows keyword argument (<ipython-input-18-93c7021ef07d>, line 21)",
     "output_type": "error",
     "traceback": [
      "\u001b[0;36m  File \u001b[0;32m\"<ipython-input-18-93c7021ef07d>\"\u001b[0;36m, line \u001b[0;32m21\u001b[0m\n\u001b[0;31m    pnad = pd.read_fwf(filepath, header=None, colspecs=colpec, name, nrows=1000)\u001b[0m\n\u001b[0m                                                              ^\u001b[0m\n\u001b[0;31mSyntaxError\u001b[0m\u001b[0;31m:\u001b[0m positional argument follows keyword argument\n"
     ]
    }
   ],
   "source": [
    "import pandas as pd\n",
    "\n",
    "filepath = r\"/Users/user/dev/BrasisDoBrasil/resources/PNADC_042017_20180816.txt\"\n",
    "filepath_dict = r\"/Users/user/dev/BrasisDoBrasil/resources/dicionario_das_variaveis_PNAD_Continua_microdados.xls\"\n",
    "\n",
    "df = pd.read_excel(filepath_dict, header=1)\n",
    "df = df[[df.columns[0], df.columns[2]]].dropna().reset_index(drop=True)\n",
    "\n",
    "names = df[df.columns[1].tolist()]\n",
    "colspec = []\n",
    "\n",
    "for i, r in df.iterrows():\n",
    "    try:\n",
    "        a = df.iloc[i][df.columns[0]]\n",
    "        b = df.iloc[i+1][df.columns[0]]\n",
    "        t = a,b\n",
    "        colspec.append(t)\n",
    "    except:\n",
    "        print(i)\n",
    "\n",
    "pnad = pd.read_fwf(filepath, header=None, colspecs=colpec, names = names, nrows=1000)\n",
    "\n",
    "# pnad.to_csv(r\"/Users/user/dev/BrasisDoBrasil/dados.csv\", index=False, sep=\";\")"
   ]
  },
  {
   "cell_type": "code",
   "execution_count": 17,
   "metadata": {},
   "outputs": [
    {
     "name": "stdout",
     "output_type": "stream",
     "text": [
      "[(97, 116), (116, 118), (118, 120), (120, 122), (122, 124), (124, 125), (125, 132), (132, 135), (135, 138), (138, 141), (141, 151), (151, 163), (163, 166), (166, 169), (169, 172), (172, 176), (176, 190), (190, 193), (193, 197), (197, 203), (203, 206), (206, 209), (209, 222), (222, 238), (238, 241), (241, 244), (244, 247), (247, 251), (251, 255), (255, 268), (268, 271), (271, 274), (274, 277), (277, 285), (285, 288), (288, 292), (292, 295), (295, 299), (299, 302), (302, 305), (305, 308), (308, 311), (311, 314), (314, 317), (317, 321), (321, 324), (324, 331), (331, 346), (346, 349), (349, 352), (352, 355), (355, 358), (358, 361), (361, 370), (370, 378), (378, 381), (381, 386), (386, 388), (388, 390), (390, 393), (393, 397), (397, 399), (399, 407), (407, 411), (411, 413), (413, 416), (416, 419), (419, 423), (423, 426), (426, 430), (430, 432), (432, 434), (434, 439), (439, 441), (441, 443), (443, 445), (445, 448), (448, 451), (451, 453), (453, 458), (458, 460), (460, 462), (462, 464), (464, 467), (467, 470), (470, 473), (473, 476), (476, 479), (479, 482), (482, 485), (485, 488), (488, 490), (490, 492), (492, 501), (501, 503), (503, 505), (505, 514), (514, 516), (516, 518), (518, 522), (522, 524), (524, 526), (526, 536), (536, 538), (538, 540), (540, 550), (550, 552), (552, 554), (554, 556), (556, 561), (561, 563), (563, 565), (565, 567), (567, 569), (569, 577), (577, 581), (581, 583), (583, 587), (587, 590), (590, 593), (593, 596), (596, 599), (599, 601), (601, 603), (603, 612), (612, 614), (614, 616), (616, 625), (625, 627), (627, 629), (629, 633), (633, 635), (635, 637), (637, 647), (647, 649), (649, 651), (651, 661), (661, 663), (663, 665), (665, 667), (667, 670), (670, 672), (672, 674), (674, 683), (683, 685), (685, 687), (687, 696), (696, 698), (698, 700), (700, 704), (704, 706), (706, 708), (708, 710), (710, 720), (720, 722), (722, 724), (724, 734), (734, 736), (736, 738), (738, 740), (740, 743), (743, 746), (746, 749), (749, 753), (753, 756), (756, 768), (768, 778), (778, 781), (781, 790), (790, 801), (801, 805), (805, 807), (807, 812), (812, 814), (814, 816), (816, 818), (818, 821), (821, 829), (829, 836), (836, 841), (841, 846), (846, 851), (851, 857), (857, 862), (862, 867), (nan, 'Parte 1 - Identificação e Controle'), ('Parte 1 - Identificação e Controle', 1), (1, 5), (5, 6), (6, nan), (nan, nan), (nan, nan), (nan, nan), (nan, nan), (nan, nan), (nan, nan), (nan, nan), (nan, nan), (nan, nan), (nan, nan), (nan, nan), (nan, nan), (nan, nan), (nan, nan), (nan, nan), (nan, nan), (nan, nan), (nan, nan), (nan, nan), (nan, nan), (nan, nan), (nan, nan), (nan, nan), (nan, nan), (nan, nan), (nan, 8), (8, nan), (nan, nan), (nan, nan), (nan, nan), (nan, nan), (nan, nan), (nan, nan), (nan, nan), (nan, nan), (nan, nan), (nan, nan), (nan, nan), (nan, nan), (nan, nan), (nan, nan), (nan, nan), (nan, nan), (nan, nan), (nan, nan), (nan, nan), (nan, nan), (nan, nan), (nan, nan), (nan, nan), (nan, nan), (nan, nan), (nan, 10), (10, nan), (nan, nan), (nan, nan), (nan, nan), (nan, nan), (nan, nan), (nan, nan), (nan, nan), (nan, nan), (nan, nan), (nan, nan), (nan, nan), (nan, nan), (nan, nan), (nan, nan), (nan, nan), (nan, nan), (nan, nan), (nan, nan), (nan, nan), (nan, 12), (12, 21), (21, 28), (28, 30), (30, 32), (32, 33), (33, nan), (nan, 34), (34, nan), (nan, nan), (nan, nan), (nan, 35), (35, 50), (50, 65), (65, 74), (74, 'Parte 2 - Características Gerais dos Moradores'), ('Parte 2 - Características Gerais dos Moradores', 77), (77, 79), (79, 81), (81, nan), (nan, nan), (nan, nan), (nan, nan), (nan, nan), (nan, nan), (nan, nan), (nan, nan), (nan, nan), (nan, nan), (nan, nan), (nan, nan), (nan, nan), (nan, nan), (nan, nan), (nan, nan), (nan, nan), (nan, nan), (nan, 83), (83, nan), (nan, 84), (84, nan), (nan, 86), (86, nan), (nan, 88), (88, nan), (nan, 92), (92, 95), (95, nan), (nan, nan), (nan, nan), (nan, nan), (nan, nan), (nan, 'Parte 3 - Características de educação para os moradores de 5 anos ou mais de idade'), ('Parte 3 - Características de educação para os moradores de 5 anos ou mais de idade', 96), (96, nan), (nan, nan), (nan, 97), (97, nan), (nan, nan), (nan, 98), (98, nan), (nan, nan), (nan, 99), (99, nan), (nan, nan), (nan, nan), (nan, nan), (nan, nan), (nan, nan), (nan, nan), (nan, nan), (nan, nan), (nan, 101), (101, nan), (nan, nan), (nan, nan), (nan, nan), (nan, nan), (nan, nan), (nan, nan), (nan, nan), (nan, nan), (nan, nan), (nan, nan), (nan, 103), (103, nan), (nan, nan), (nan, 104), (104, nan), (nan, nan), (nan, 105), (105, nan), (nan, nan), (nan, 106), (106, nan), (nan, nan), (nan, nan), (nan, 107), (107, nan), (nan, nan), (nan, nan), (nan, nan), (nan, nan), (nan, nan), (nan, nan), (nan, nan), (nan, nan), (nan, nan), (nan, nan), (nan, nan), (nan, nan), (nan, 109), (109, nan), (nan, nan), (nan, 110), (110, nan), (nan, nan), (nan, nan), (nan, 111), (111, nan), (nan, nan), (nan, nan), (nan, nan), (nan, nan), (nan, 112), (112, nan), (nan, nan), (nan, 113), (113, nan), (nan, nan), (nan, 114), (114, nan), (nan, nan), (nan, nan), (nan, nan), (nan, nan), (nan, nan), (nan, nan), (nan, nan), (nan, nan), (nan, nan), (nan, nan), (nan, nan), (nan, 116), (116, nan), (nan, nan), (nan, nan), (nan, nan), (nan, nan), (nan, nan), (nan, nan), (nan, nan), (nan, nan), (nan, nan), (nan, nan), (nan, nan), (nan, nan), (nan, nan), (nan, nan), (nan, 118), (118, nan), (nan, nan), (nan, 119), (119, nan), (nan, nan), (nan, 120), (120, nan), (nan, nan), (nan, 121), (121, nan), (nan, nan), (nan, nan), (nan, 122), (122, nan), (nan, nan), (nan, nan), (nan, 123), (123, nan), (nan, nan), (nan, nan), (nan, nan), (nan, nan), (nan, nan), (nan, nan), (nan, nan), (nan, nan), (nan, nan), (nan, nan), (nan, nan), (nan, 125), (125, nan), (nan, nan), (nan, 126), (126, nan), (nan, nan), (nan, 127), (127, nan), (nan, nan), (nan, 128), (128, nan), (nan, nan), (nan, nan), (nan, 129), (129, nan), (nan, nan), (nan, nan), (nan, 130), (130, nan), (nan, nan), (nan, 131), (131, nan), (nan, nan), (nan, nan), (nan, 132), (132, nan), (nan, nan), (nan, 133), (133, nan), (nan, nan), (nan, nan), (nan, 134), (134, nan), (nan, nan), (nan, 135), (135, nan), (nan, nan), (nan, 136), (136, nan), (nan, nan), (nan, 137), (137, nan), (nan, nan), (nan, 138), (138, nan), (nan, nan), (nan, 139), (139, nan), (nan, nan), (nan, 140), (140, nan), (nan, nan), (nan, nan), (nan, 141), (141, nan), (nan, nan), (nan, 142), (142, nan), (nan, nan), (nan, nan), (nan, nan), (nan, nan), (nan, nan), (nan, 143), (143, nan), (nan, nan), (nan, nan), (nan, nan), (nan, nan), (nan, nan), (nan, nan), (nan, nan), (nan, nan), (nan, nan), (nan, nan), (nan, nan), (nan, nan), (nan, 'Parte 4 - Características de trabalho das pessoas de 14 anos ou mais de idade'), ('Parte 4 - Características de trabalho das pessoas de 14 anos ou mais de idade', 145), (145, nan), (nan, nan), (nan, 146), (146, nan), (nan, nan), (nan, 147), (147, nan), (nan, nan), (nan, 148), (148, nan), (nan, nan), (nan, 149), (149, nan), (nan, nan), (nan, 150), (150, nan), (nan, nan), (nan, nan), (nan, nan), (nan, nan), (nan, nan), (nan, nan), (nan, nan), (nan, 151), (151, nan), (nan, nan), (nan, nan), (nan, nan), (nan, nan), (nan, nan), (nan, nan), (nan, 152), (152, nan), (nan, nan), (nan, 153), (153, nan), (nan, nan), (nan, nan), (nan, nan), (nan, 154), (154, nan), (nan, 156), (156, nan), (nan, 158), (158, nan), (nan, ' 2 - Pessoas Ocupadas'), (' 2 - Pessoas Ocupadas', 160), (160, nan), (nan, nan), (nan, nan), (nan, 161), (161, nan), (nan, 165), (165, nan), (nan, nan), (nan, nan), (nan, nan), (nan, nan), (nan, nan), (nan, nan), (nan, 166), (166, nan), (nan, nan), (nan, nan), (nan, 167), (167, nan), (nan, 172), (172, nan), (nan, nan), (nan, 173), (173, nan), (nan, nan), (nan, 174), (174, nan), (nan, nan), (nan, nan), (nan, 175), (175, nan), (nan, nan), (nan, 176), (176, nan), (nan, nan), (nan, nan), (nan, 177), (177, nan), (nan, 178), (178, nan), (nan, 180), (180, nan), (nan, nan), (nan, nan), (nan, nan), (nan, 181), (181, nan), (nan, 182), (182, nan), (nan, 184), (184, nan), (nan, 186), (186, nan), (nan, nan), (nan, 187), (187, nan), (nan, nan), (nan, 188), (188, nan), (nan, 189), (189, nan), (nan, nan), (nan, nan), (nan, nan), (nan, 190), (190, nan), (nan, 191), (191, nan), (nan, 193), (193, nan), (nan, 195), (195, nan), (nan, nan), (nan, 196), (196, nan), (nan, nan), (nan, 197), (197, nan), (nan, nan), (nan, 198), (198, nan), (nan, nan), (nan, 199), (199, nan), (nan, nan), (nan, 200), (200, nan), (nan, nan), (nan, 201), (201, nan), (nan, nan), (nan, 202), (202, nan), (nan, nan), (nan, 203), (203, nan), (nan, 204), (204, nan), (nan, 205), (205, nan), (nan, nan), (nan, nan), (nan, nan), (nan, nan), (nan, nan), (nan, nan), (nan, nan), (nan, 206), (206, nan), (nan, 214), (214, nan), (nan, 215), (215, nan), (nan, nan), (nan, nan), (nan, nan), (nan, nan), (nan, nan), (nan, nan), (nan, nan), (nan, 216), (216, nan), (nan, 224), (224, nan), (nan, 225), (225, nan), (nan, nan), (nan, nan), (nan, 226), (226, nan), (nan, 227), (227, nan), (nan, 228), (228, nan), (nan, nan), (nan, nan), (nan, nan), (nan, nan), (nan, nan), (nan, nan), (nan, nan), (nan, nan), (nan, 229), (229, nan), (nan, 237), (237, nan), (nan, 238), (238, nan), (nan, nan), (nan, nan), (nan, nan), (nan, nan), (nan, nan), (nan, nan), (nan, nan), (nan, nan), (nan, 239), (239, nan), (nan, 247), (247, nan), (nan, 250), (250, nan), (nan, 253), (253, nan), (nan, nan), (nan, nan), (nan, nan), (nan, 254), (254, nan), (nan, 256), (256, nan), (nan, 258), (258, nan), (nan, 260), (260, nan), (nan, 264), (264, nan), (nan, nan), (nan, nan), (nan, nan), (nan, nan), (nan, nan), (nan, nan), (nan, 265), (265, nan), (nan, nan), (nan, nan), (nan, 266), (266, nan), (nan, 271), (271, nan), (nan, nan), (nan, nan), (nan, 272), (272, nan), (nan, nan), (nan, 273), (273, nan), (nan, nan), (nan, 274), (274, nan), (nan, nan), (nan, 275), (275, nan), (nan, nan), (nan, 276), (276, nan), (nan, 277), (277, nan), (nan, 278), (278, nan), (nan, nan), (nan, nan), (nan, nan), (nan, nan), (nan, nan), (nan, nan), (nan, nan), (nan, 279), (279, nan), (nan, 287), (287, nan), (nan, 288), (288, nan), (nan, nan), (nan, nan), (nan, nan), (nan, nan), (nan, nan), (nan, nan), (nan, nan), (nan, 289), (289, nan), (nan, 297), (297, nan), (nan, 298), (298, nan), (nan, nan), (nan, nan), (nan, 299), (299, nan), (nan, 300), (300, nan), (nan, 301), (301, nan), (nan, nan), (nan, nan), (nan, nan), (nan, nan), (nan, nan), (nan, nan), (nan, nan), (nan, nan), (nan, 302), (302, nan), (nan, 310), (310, nan), (nan, 311), (311, nan), (nan, nan), (nan, nan), (nan, nan), (nan, nan), (nan, nan), (nan, nan), (nan, nan), (nan, nan), (nan, 312), (312, nan), (nan, 320), (320, nan), (nan, 323), (323, nan), (nan, 326), (326, nan), (nan, nan), (nan, 327), (327, nan), (nan, 328), (328, nan), (nan, 329), (329, nan), (nan, nan), (nan, nan), (nan, nan), (nan, nan), (nan, nan), (nan, nan), (nan, nan), (nan, 330), (330, nan), (nan, 338), (338, nan), (nan, 339), (339, nan), (nan, nan), (nan, nan), (nan, nan), (nan, nan), (nan, nan), (nan, nan), (nan, nan), (nan, 340), (340, nan), (nan, 348), (348, nan), (nan, 349), (349, nan), (nan, nan), (nan, nan), (nan, 350), (350, nan), (nan, 351), (351, nan), (nan, 352), (352, nan), (nan, 353), (353, nan), (nan, nan), (nan, nan), (nan, nan), (nan, nan), (nan, nan), (nan, nan), (nan, nan), (nan, nan), (nan, 354), (354, nan), (nan, 362), (362, nan), (nan, 363), (363, nan), (nan, nan), (nan, nan), (nan, nan), (nan, nan), (nan, nan), (nan, nan), (nan, nan), (nan, nan), (nan, 364), (364, nan), (nan, 372), (372, nan), (nan, 375), (375, nan), (nan, 378), (378, nan), (nan, nan), (nan, 379), (379, nan), (nan, nan), (nan, 380), (380, nan), (nan, nan), (nan, 381), (381, nan), (nan, nan), (nan, '3 - Pessoas não ocupadas'), ('3 - Pessoas não ocupadas', 382), (382, nan), (nan, nan), (nan, 383), (383, nan), (nan, nan), (nan, nan), (nan, nan), (nan, nan), (nan, nan), (nan, nan), (nan, nan), (nan, nan), (nan, nan), (nan, nan), (nan, 385), (385, nan), (nan, nan), (nan, nan), (nan, nan), (nan, nan), (nan, nan), (nan, nan), (nan, nan), (nan, nan), (nan, 386), (386, nan), (nan, nan), (nan, 387), (387, nan), (nan, nan), (nan, nan), (nan, nan), (nan, nan), (nan, nan), (nan, nan), (nan, nan), (nan, 388), (388, nan), (nan, nan), (nan, nan), (nan, nan), (nan, nan), (nan, nan), (nan, nan), (nan, nan), (nan, nan), (nan, nan), (nan, 390), (390, nan), (nan, nan), (nan, nan), (nan, 391), (391, nan), (nan, 393), (393, nan), (nan, nan), (nan, nan), (nan, nan), (nan, 394), (394, nan), (nan, 396), (396, nan), (nan, 398), (398, nan), (nan, 400), (400, nan), (nan, nan), (nan, 401), (401, nan), (nan, nan), (nan, nan), (nan, nan), (nan, nan), (nan, nan), (nan, nan), (nan, 402), (402, nan), (nan, nan), (nan, nan), (nan, nan), (nan, nan), (nan, nan), (nan, 403), (403, nan), (nan, nan), (nan, 'Parte 5 - Rendimentos de outras fontes'), ('Parte 5 - Rendimentos de outras fontes', 'Rendimentos de programas sociais'), ('Rendimentos de programas sociais', 404), (404, nan), (nan, nan), (nan, 405), (405, nan), (nan, 413), (413, nan), (nan, nan), (nan, 414), (414, nan), (nan, 422), (422, nan), (nan, nan), (nan, 423), (423, nan), (nan, 'Outros rendimentos'), ('Outros rendimentos', 431), (431, nan), (nan, nan), (nan, 432), (432, nan), (nan, 440), (440, nan), (nan, nan), (nan, 441), (441, nan), (nan, 449), (449, nan), (nan, nan), (nan, 450), (450, nan), (nan, 'Variáveis Derivadas'), ('Variáveis Derivadas', 458), (458, nan), (nan, nan), (nan, nan), (nan, nan), (nan, nan), (nan, nan), (nan, nan), (nan, nan), (nan, nan), (nan, nan), (nan, nan), (nan, nan), (nan, nan), (nan, nan), (nan, nan), (nan, nan), (nan, 460), (460, 462), (462, nan), (nan, nan), (nan, nan), (nan, 463), (463, nan), (nan, nan), (nan, nan), (nan, nan), (nan, nan), (nan, nan), (nan, nan), (nan, 464), (464, nan), (nan, nan), (nan, nan), (nan, nan), (nan, nan), (nan, nan), (nan, nan), (nan, nan), (nan, nan), (nan, nan), (nan, nan), (nan, nan), (nan, nan), (nan, nan), (nan, nan), (nan, nan), (nan, nan), (nan, 466), (466, nan), (nan, nan), (nan, nan), (nan, nan), (nan, 467), (467, nan), (nan, nan), (nan, 468), (468, nan), (nan, nan), (nan, 469), (469, nan), (nan, nan), (nan, 470), (470, nan), (nan, 471), (471, nan), (nan, 472), (472, nan), (nan, nan), (nan, nan), (nan, nan), (nan, 473), (473, nan), (nan, nan), (nan, nan), (nan, nan), (nan, nan), (nan, nan), (nan, 474), (474, nan), (nan, nan), (nan, nan), (nan, nan), (nan, nan), (nan, nan), (nan, nan), (nan, nan), (nan, nan), (nan, nan), (nan, 476), (476, nan), (nan, nan), (nan, nan), (nan, nan), (nan, nan), (nan, nan), (nan, nan), (nan, nan), (nan, nan), (nan, nan), (nan, nan), (nan, nan), (nan, 478), (478, nan), (nan, nan), (nan, nan), (nan, nan), (nan, nan), (nan, nan), (nan, nan), (nan, nan), (nan, nan), (nan, nan), (nan, nan), (nan, 480), (480, nan), (nan, nan), (nan, 481), (481, nan), (nan, nan), (nan, nan), (nan, nan), (nan, nan), (nan, 482), (482, nan), (nan, nan), (nan, nan), (nan, nan), (nan, nan), (nan, 483), (483, nan), (nan, nan), (nan, 484), (484, nan), (nan, 492), (492, nan), (nan, 500), (500, nan), (nan, nan), (nan, 501), (501, nan), (nan, 509), (509, nan), (nan, 517), (517, nan), (nan, 525), (525, nan), (nan, nan), (nan, nan), (nan, nan), (nan, nan), (nan, nan), (nan, 526), (526, nan), (nan, nan), (nan, nan), (nan, nan), (nan, nan), (nan, nan), (nan, 527), (527, nan), (nan, 530), (530, nan), (nan, 533), (533, nan), (nan, 536), (536, nan), (nan, 539), (539, nan), (nan, 542), (542, nan), (nan, nan), (nan, nan), (nan, nan), (nan, nan), (nan, 543), (543, nan), (nan, nan), (nan, nan), (nan, nan), (nan, nan), (nan, 544), (544, nan), (nan, 552), (552, nan), (nan, 560), (560, nan), (nan, 568), (568, nan), (nan, 576), (576, nan), (nan, nan), (nan, nan), (nan, nan), (nan, nan), (nan, nan), (nan, nan), (nan, 577), (577, nan), (nan, 585), (585, nan), (nan, 593), (593, nan), (nan, nan), (nan, nan), (nan, nan), (nan, nan), (nan, nan), (nan, nan)]\n"
     ]
    }
   ],
   "source": []
  },
  {
   "cell_type": "code",
   "execution_count": null,
   "metadata": {
    "collapsed": true
   },
   "outputs": [],
   "source": []
  },
  {
   "cell_type": "code",
   "execution_count": null,
   "metadata": {
    "collapsed": true
   },
   "outputs": [],
   "source": []
  }
 ],
 "metadata": {
  "kernelspec": {
   "display_name": "Python 3",
   "language": "python",
   "name": "python3"
  },
  "language_info": {
   "codemirror_mode": {
    "name": "ipython",
    "version": 3
   },
   "file_extension": ".py",
   "mimetype": "text/x-python",
   "name": "python",
   "nbconvert_exporter": "python",
   "pygments_lexer": "ipython3",
   "version": "3.6.1"
  }
 },
 "nbformat": 4,
 "nbformat_minor": 2
}
