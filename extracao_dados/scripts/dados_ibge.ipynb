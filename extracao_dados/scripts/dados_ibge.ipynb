{
 "cells": [
  {
   "cell_type": "code",
   "execution_count": null,
   "metadata": {},
   "outputs": [],
   "source": [
    "import pandas as pd"
   ]
  },
  {
   "cell_type": "markdown",
   "metadata": {},
   "source": [
    "## 1. Caminho dos arquivos para o dado e o dicionário do PNAD\n",
    "    - filepath deve conter o caminho do arquivo para o dado que deve ser lido.\n",
    "    - filepath_dict descreve o caminho do dicionário específico que deve ser usado para ler os microdados do PNAD "
   ]
  },
  {
   "cell_type": "code",
   "execution_count": null,
   "metadata": {},
   "outputs": [],
   "source": [
    "filepath = r\"/Users/user/dev/BrasisDoBrasil/resources/PNADC_042017_20180816.txt\"\n",
    "filepath_dict = r\"/Users/user/dev/BrasisDoBrasil/resources/dicionario_das_variaveis_PNAD_Continua_microdados.xls\"\n"
   ]
  },
  {
   "cell_type": "markdown",
   "metadata": {},
   "source": [
    "## 2. Lê colunas de nome da variável e tamanho do dicionário"
   ]
  },
  {
   "cell_type": "code",
   "execution_count": null,
   "metadata": {},
   "outputs": [],
   "source": [
    "df = pd.read_excel(filepath_dict, header=1)\n",
    "df = df[[df.columns[0], df.columns[2]]].dropna().reset_index(drop=True)"
   ]
  },
  {
   "cell_type": "code",
   "execution_count": null,
   "metadata": {},
   "outputs": [],
   "source": [
    "names = df[df.columns[1]].tolist()"
   ]
  },
  {
   "cell_type": "markdown",
   "metadata": {},
   "source": [
    "## 3. Percorre todo o dicionário mapeando as colunas \n",
    "    A separação dos dados do PNAD são definidos por posição inicial e final, tal informação da posição está descrita no dicionário do dado, onde demarca o início e o fim de cada variável. A estrutura abaixo, lê as colunas do dicionário, mapeia todas as posições de cada variável adicionando em uma tupla (posicao_inicial, posicao_final). Todas as tuplas vão ser adicionas em *colspec* que será usada para ler os dados do PNAD."
   ]
  },
  {
   "cell_type": "code",
   "execution_count": null,
   "metadata": {},
   "outputs": [],
   "source": [
    "for i, r in df.iterrows():\n",
    "    try:\n",
    "        a = df.iloc[i][df.columns[0]]\n",
    "        b = df.iloc[i+1][df.columns[0]]\n",
    "    except:\n",
    "        a = df.iloc[i][df.columns[0]]\n",
    "        b = df.iloc[i-1][df.columns[0]]\n",
    "    t = a,b\n",
    "    colspec.append(t)"
   ]
  },
  {
   "cell_type": "markdown",
   "metadata": {},
   "source": [
    "## 4. Enfim, lendo os dados do pnad\n",
    "    Enfim podemos ler os dados do pnad usando as especificações de coluna para identificar cada variável. "
   ]
  },
  {
   "cell_type": "code",
   "execution_count": null,
   "metadata": {},
   "outputs": [],
   "source": [
    "pnad = pd.read_fwf(filepath, header=None, colspecs=colspec, names = names)\n"
   ]
  },
  {
   "cell_type": "markdown",
   "metadata": {},
   "source": [
    "Depois escrevemos o dataframe em um csv."
   ]
  },
  {
   "cell_type": "code",
   "execution_count": null,
   "metadata": {},
   "outputs": [],
   "source": [
    "pnad.to_csv(r\"/Users/user/dev/BrasisDoBrasil/dados.csv\", index=False, sep=\";\")"
   ]
  }
 ],
 "metadata": {
  "kernelspec": {
   "display_name": "Python 3",
   "language": "python",
   "name": "python3"
  },
  "language_info": {
   "codemirror_mode": {
    "name": "ipython",
    "version": 3
   },
   "file_extension": ".py",
   "mimetype": "text/x-python",
   "name": "python",
   "nbconvert_exporter": "python",
   "pygments_lexer": "ipython3",
   "version": "3.7.0"
  }
 },
 "nbformat": 4,
 "nbformat_minor": 2
}
