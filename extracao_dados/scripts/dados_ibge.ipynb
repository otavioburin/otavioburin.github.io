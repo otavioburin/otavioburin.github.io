{
 "cells": [
  {
   "cell_type": "code",
   "execution_count": null,
   "metadata": {},
   "outputs": [],
   "source": [
    "import pandas as pd\n",
    "\n",
    "filepath = r\"/Users/user/dev/BrasisDoBrasil/resources/PNADC_042017_20180816.txt\"\n",
    "filepath_dict = r\"/Users/user/dev/BrasisDoBrasil/resources/dicionario_das_variaveis_PNAD_Continua_microdados.xls\"\n",
    "\n",
    "df = pd.read_excel(filepath_dict, header=1)\n",
    "df = df[[df.columns[0], df.columns[2]]].dropna().reset_index(drop=True)\n",
    "\n",
    "names = df[df.columns[1]].tolist()\n",
    "\n",
    "colspec = []\n",
    "\n",
    "for i, r in df.iterrows():\n",
    "    try:\n",
    "        a = df.iloc[i][df.columns[0]]\n",
    "        b = df.iloc[i+1][df.columns[0]]\n",
    "    except:\n",
    "        a = df.iloc[i][df.columns[0]]\n",
    "        b = df.iloc[i-1][df.columns[0]]\n",
    "    t = a,b\n",
    "    colspec.append(t)\n",
    "\n",
    "pnad = pd.read_fwf(filepath, header=None, colspecs=colspec, names = names)\n",
    "\n",
    "# pnad.to_csv(r\"/Users/user/dev/BrasisDoBrasil/dados.csv\", index=False, sep=\";\")"
   ]
  },
  {
   "cell_type": "code",
   "execution_count": null,
   "metadata": {
    "collapsed": true
   },
   "outputs": [],
   "source": []
  },
  {
   "cell_type": "code",
   "execution_count": null,
   "metadata": {},
   "outputs": [],
   "source": [
    "print(colspec)"
   ]
  },
  {
   "cell_type": "code",
   "execution_count": null,
   "metadata": {
    "collapsed": true
   },
   "outputs": [],
   "source": []
  },
  {
   "cell_type": "code",
   "execution_count": 61,
   "metadata": {},
   "outputs": [
    {
     "data": {
      "text/plain": [
       "array([ 1., nan])"
      ]
     },
     "execution_count": 61,
     "metadata": {},
     "output_type": "execute_result"
    }
   ],
   "source": [
    "pnad['Capital'].unique()"
   ]
  },
  {
   "cell_type": "code",
   "execution_count": 45,
   "metadata": {},
   "outputs": [
    {
     "data": {
      "text/plain": [
       "array([2, 1, 9, 3, 0])"
      ]
     },
     "execution_count": 45,
     "metadata": {},
     "output_type": "execute_result"
    }
   ],
   "source": [
    "pnad['V2007'].unique()"
   ]
  },
  {
   "cell_type": "code",
   "execution_count": null,
   "metadata": {
    "collapsed": true
   },
   "outputs": [],
   "source": []
  }
 ],
 "metadata": {
  "kernelspec": {
   "display_name": "Python 3",
   "language": "python",
   "name": "python3"
  },
  "language_info": {
   "codemirror_mode": {
    "name": "ipython",
    "version": 3
   },
   "file_extension": ".py",
   "mimetype": "text/x-python",
   "name": "python",
   "nbconvert_exporter": "python",
   "pygments_lexer": "ipython3",
   "version": "3.6.1"
  }
 },
 "nbformat": 4,
 "nbformat_minor": 2
}
